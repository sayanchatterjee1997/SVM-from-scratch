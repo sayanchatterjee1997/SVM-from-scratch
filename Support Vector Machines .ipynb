{
 "cells": [
  {
   "cell_type": "markdown",
   "metadata": {
    "colab_type": "text",
    "id": "13at-uWgvkQP"
   },
   "source": [
    "#### Support Vector Machines\n",
    "##Implement SVM from scratch"
   ]
  },
  {
   "cell_type": "code",
   "execution_count": 1,
   "metadata": {
    "colab": {},
    "colab_type": "code",
    "id": "JFRYyHWL-tOq"
   },
   "outputs": [],
   "source": [
    "import numpy as np\n",
    "import matplotlib.pyplot as plt\n",
    "import seaborn as sns"
   ]
  },
  {
   "cell_type": "markdown",
   "metadata": {
    "colab_type": "text",
    "id": "IYcrun6CbQ0L"
   },
   "source": [
    "#Create linearly separable data and \n"
   ]
  },
  {
   "cell_type": "code",
   "execution_count": 2,
   "metadata": {
    "colab": {},
    "colab_type": "code",
    "id": "2Ene7E42Ytrc"
   },
   "outputs": [],
   "source": [
    "#Random data generation\n",
    "def data_generator(data_p):\n",
    "    data = [[np.random.rand(), np.random.rand()] for i in range(data_p)]\n",
    "    for i, point in enumerate(data):\n",
    "        x, y = point\n",
    "        if 0.5*x - y + 0.25 > 0:\n",
    "            data[i].append(-1)\n",
    "        else:\n",
    "            data[i].append(1)\n",
    "    return data\n",
    "data = data_generator(10)"
   ]
  },
  {
   "cell_type": "code",
   "execution_count": 3,
   "metadata": {
    "colab": {
     "base_uri": "https://localhost:8080/",
     "height": 269
    },
    "colab_type": "code",
    "id": "VPdWewWZbk1r",
    "outputId": "fa0ae002-8998-4a9e-deba-60c07c5f3f1d"
   },
   "outputs": [
    {
     "data": {
      "image/png": "[encoded data removed]",
      "text/plain": [
       "<Figure size 432x288 with 1 Axes>"
      ]
     },
     "metadata": {
      "needs_background": "light"
     },
     "output_type": "display_data"
    }
   ],
   "source": [
    "#visualization\n",
    "for x, y, l in data:\n",
    "    if l == 1: \n",
    "        clr = 'red'\n",
    "    else: \n",
    "        clr = 'blue'\n",
    "    plt.scatter(x, y, c=clr)\n",
    "    plt.xlim(0,1)\n",
    "    plt.ylim(0,1)\n"
   ]
  },
  {
   "cell_type": "markdown",
   "metadata": {
    "colab_type": "text",
    "id": "8Ul5Uantin_q"
   },
   "source": [
    "#SVM Classifier\n",
    "Train a SVM classifier using gradient descent and return a Weight Matrix which is a numpy array of length (N + 1) where N is dimension of training samples. \n",
    "You can refer to Fig. 1 in [this](https://www.cs.huji.ac.il/~shais/papers/ShalevSiSrCo10.pdf) paper for implementation. You can add arguments to svm_function according to your implementation."
   ]
  },
  {
   "cell_type": "code",
   "execution_count": 4,
   "metadata": {
    "colab": {},
    "colab_type": "code",
    "id": "9y6Jet_QcdBo"
   },
   "outputs": [],
   "source": [
    "def svm_function(x, y, epoch,lambd):#lamd is the learning rate\n",
    "    w=np.zeros((1,3))\n",
    "    \n",
    "    for i in range(epoch):\n",
    "        l_rate=1/(lambd*(i+1))\n",
    "        for j in range(len(y)):\n",
    "            if (y[j]*np.dot(w,x[j].T))<=1:\n",
    "                w=w*(1-1/(i+1))+l_rate*y[j]*x[j];\n",
    "            else:\n",
    "                w=w*(1-1/(i+1))\n",
    "                \n",
    "    return w"
   ]
  },
  {
   "cell_type": "markdown",
   "metadata": {
    "colab_type": "text",
    "id": "5xSS1Rn5iuLL"
   },
   "source": [
    "#Run SVM Classifier"
   ]
  },
  {
   "cell_type": "code",
   "execution_count": 5,
   "metadata": {
    "colab": {},
    "colab_type": "code",
    "id": "LVAtpfnme0J-"
   },
   "outputs": [
    {
     "name": "stdout",
     "output_type": "stream",
     "text": [
      "[[ 0.00333667 -0.70763277  0.48240479]]\n"
     ]
    }
   ],
   "source": [
    "def svm_train(lambd, epoch, no_data):\n",
    "    \n",
    "    data = np.asarray(data_generator(no_data))\n",
    "    X = data[:,:2]\n",
    "    Y = data[:,2]\n",
    "    a=np.ones((1,len(data)))\n",
    "    X=np.concatenate((a.T,X),axis=1)\n",
    "    \n",
    "    w = svm_function(X, Y, epoch,lambd)\n",
    "    return w\n",
    "w=svm_train(0.3, 1000, 10)\n",
    "print(w)\n"
   ]
  },
  {
   "cell_type": "markdown",
   "metadata": {
    "colab_type": "text",
    "id": "neqORagGixnt"
   },
   "source": [
    "#Visualize the classifier\n",
    "Write a code to draw a lines corrosponding to 'w' vector you got as output from svm_function and for a line from which actual data was generated\n",
    "(0.5*x - y + 0.25). "
   ]
  },
  {
   "cell_type": "code",
   "execution_count": 6,
   "metadata": {
    "colab": {},
    "colab_type": "code",
    "id": "lkyRWfFSw2aq"
   },
   "outputs": [
    {
     "data": {
      "image/png": "[encoded data removed]",
      "text/plain": [
       "<Figure size 432x288 with 1 Axes>"
      ]
     },
     "metadata": {
      "needs_background": "light"
     },
     "output_type": "display_data"
    }
   ],
   "source": [
    "x=np.arange(0,1,0.1)\n",
    "plt.plot(x,-w[0,0]/w[0,2]-(w[0,1]/w[0,2])*x,'r-',x,0.5*x+0.25,'b-')\n",
    "plt.show()"
   ]
  },
  {
   "cell_type": "markdown",
   "metadata": {
    "colab_type": "text",
    "id": "dY3IRad0-Cg8"
   },
   "source": [
    "Increase the number of data-points and observe number of epochs to converge. Draw plots showing data-points, actual data seprating line and line corrosponding to 'w' you got from svm_function for 10, 20, 30, 40, 50 and 100 data-points. Please use only one notebook cell for this visualization. Please use subplot function in matplotlib for this."
   ]
  },
  {
   "cell_type": "code",
   "execution_count": 7,
   "metadata": {
    "colab": {},
    "colab_type": "code",
    "id": "o2rqwN3zD1IY"
   },
   "outputs": [
    {
     "data": {
      "image/png": "[encoded data removed]",
      "text/plain": [
       "<Figure size 432x288 with 6 Axes>"
      ]
     },
     "metadata": {
      "needs_background": "light"
     },
     "output_type": "display_data"
    }
   ],
   "source": [
    "data_pts = [10, 20, 30, 40 ,50, 100]\n",
    "\n",
    "#setting up the subplot in order to plot for various data_points \n",
    "f,b = plt.subplots(2, 3)\n",
    "epoch = 5000\n",
    "def data_vis(data2, w, a, ndp):\n",
    "    if a<=2:\n",
    "        n1 = 5%(5-a)\n",
    "    else:\n",
    "        n1 = 5%(8-a)\n",
    "    if a<=2:\n",
    "        n2 = 0\n",
    "    else:\n",
    "        n2 = 1\n",
    "    for x, y, l in data2:\n",
    "        if l == 1: \n",
    "            clr = 'red'\n",
    "        else: \n",
    "            clr = 'blue'\n",
    "        b[n2,n1].scatter(x, y, c=clr)\n",
    "    x= np.arange(0,1, 0.1)\n",
    "    b[n2,n1].plot(x, -w[0][1]/w[0][2]*x -w[0][0]/w[0][2], 'r-', x, 0.5*x + 0.25 , 'b-')    \n",
    "    b[n2,n1].set_title('data points = ' + str(ndp))\n",
    "           \n",
    "set_of_lambd = [0.010, 0.010, 0.02, 0.020, 0.025, 0.010]\n",
    "\n",
    "for l, ndp in (enumerate(data_pts)):\n",
    "    w = svm_train(set_of_lambd[l], epoch, ndp)\n",
    "    data1 = data_generator(ndp)\n",
    "    data_vis(data1, w, l, ndp)\n",
    "\n",
    "for c in b.flat:\n",
    "    c.set(xlabel='x', ylabel='y')\n",
    "\n",
    "for c in b.flat:\n",
    "    c.label_outer()   \n",
    "    "
   ]
  },
  {
   "cell_type": "markdown",
   "metadata": {
    "colab_type": "text",
    "id": "nybBTVAuv7vX"
   },
   "source": [
    "#Perturbing the previously created  data\n",
    "Add noise to the data and visualize the resulting classifier.\n",
    "\n",
    "\n"
   ]
  },
  {
   "cell_type": "code",
   "execution_count": 8,
   "metadata": {
    "colab": {},
    "colab_type": "code",
    "id": "v072suqtiZqP"
   },
   "outputs": [],
   "source": [
    "for i in range(len(data)):\n",
    "    data[i][0] += (np.random.rand() - 0.5) / 2.\n",
    "    data[i][1] += (np.random.rand() - 0.5) / 2."
   ]
  },
  {
   "cell_type": "markdown",
   "metadata": {
    "colab_type": "text",
    "id": "v9cziKy-yzRB"
   },
   "source": [
    "#Visualizing the perturbed Data"
   ]
  },
  {
   "cell_type": "code",
   "execution_count": 9,
   "metadata": {
    "colab": {
     "base_uri": "https://localhost:8080/",
     "height": 269
    },
    "colab_type": "code",
    "id": "3XCbAHV9v_h4",
    "outputId": "d6dddcd0-f2b6-4008-877c-f7ba9e30cd9e"
   },
   "outputs": [
    {
     "data": {
      "image/png": "[encoded data removed]",
      "text/plain": [
       "<Figure size 432x288 with 1 Axes>"
      ]
     },
     "metadata": {
      "needs_background": "light"
     },
     "output_type": "display_data"
    }
   ],
   "source": [
    "for x, y, l in data:\n",
    "    if l == 1: \n",
    "        clr = 'red'\n",
    "    else: \n",
    "        clr = 'blue'\n",
    "    plt.scatter(x, y, c=clr)\n",
    "    "
   ]
  },
  {
   "cell_type": "markdown",
   "metadata": {
    "colab_type": "text",
    "id": "ytt1BrH_y5ms"
   },
   "source": [
    "#Visualize the classifier trained on noisy data\n",
    "Plot actual seperating line and seperating line you got from svm_classifier. Do this for 10, 20, 30, 40, 50 and 100 data points. You can vary the scale of noise as well. Please use only one notebook cell for this visualization. Please use subplot function in matplotlib for this."
   ]
  },
  {
   "cell_type": "code",
   "execution_count": 10,
   "metadata": {
    "colab": {},
    "colab_type": "code",
    "id": "9cMm9PG4wU1h"
   },
   "outputs": [
    {
     "data": {
      "image/png": "[encoded data removed]",
      "text/plain": [
       "<Figure size 432x288 with 1 Axes>"
      ]
     },
     "metadata": {
      "needs_background": "light"
     },
     "output_type": "display_data"
    },
    {
     "data": {
      "image/png": "[encoded data removed]",
      "text/plain": [
       "<Figure size 432x288 with 6 Axes>"
      ]
     },
     "metadata": {
      "needs_background": "light"
     },
     "output_type": "display_data"
    }
   ],
   "source": [
    "#first doing it for previously generated 10 data points\n",
    "#this is the same data set that was used earlier\n",
    "\n",
    "\n",
    "data= np.asarray(data)\n",
    "for i in range(len(data)):\n",
    "    data[i][0] += (np.random.rand() - 0.5) / 2.\n",
    "    data[i][1] += (np.random.rand() - 0.5) / 2.\n",
    "\n",
    "X = data[:,:2]\n",
    "Y = data[:,2]\n",
    "a=np.ones((1,len(data)))\n",
    "X=np.concatenate((a.T,X),axis=1)\n",
    "w = svm_function(X, Y, 1000, 0.01)\n",
    "z = np.arange(0., 1., 0.1)\n",
    "plt.plot(z, -w[0][1]/w[0][2]*z -w[0][0]/w[0][2], 'r-', z, 0.5*z + 0.25 , 'b-')\n",
    "plt.axis([0, 1, 0, 1])\n",
    "plt.show()\n",
    "\n",
    "#checking with more no of data points\n",
    "#observation of convergence\n",
    "\n",
    "data_pts = [10, 20, 30, 40 ,50, 100]#no of data points\n",
    "\n",
    "#setting up the sub_plotting figure\n",
    "\n",
    "f, b = plt.subplots(2, 3)\n",
    "epoch = 5000\n",
    "def data_vis(data, w, a, ndp):\n",
    "    if a<=2:\n",
    "        n1 = 5%(5-a)\n",
    "    else:\n",
    "        n1 = 5%(8-a)\n",
    "    if a<=2:\n",
    "        n2 = 0\n",
    "    else:\n",
    "        n2 = 1\n",
    "        \n",
    "        \n",
    "    #coloring and visualization \n",
    "    \n",
    "    \n",
    "    for x, y, l in data:\n",
    "        if l == 1: \n",
    "            clr = 'red'\n",
    "        else: \n",
    "            clr = 'blue'\n",
    "        b[n2,n1].scatter(x, y, c=clr)\n",
    "    x= np.arange(0,1, 0.1)\n",
    "    b[n2,n1].plot(x, -w[0][1]/w[0][2]*x -w[0][0]/w[0][2], 'r-', x, 0.5*x + 0.25 , 'b-')    \n",
    "    b[n2,n1].set_title('data points = ' + str(ndp))\n",
    "    \n",
    "#set of lambda is here for various learning rate for various set\n",
    "\n",
    "\n",
    "set_of_lambd = [0.02, 0.02, 0.02, 0.03, 0.03, 0.03]\n",
    "for i, j in (enumerate(data_pts)):\n",
    "    w = svm_train(set_of_lambd[i], epoch, j)\n",
    "    data = data_generator(j)\n",
    "    \n",
    "    \n",
    "    #add noise to the generated data\n",
    "\n",
    "    for t in range(len(data)):\n",
    "        data[t][0] += (np.random.rand() - 0.5) / 2.\n",
    "        data[t][1] += (np.random.rand() - 0.5) / 2.\n",
    "    data_vis(data, w, i, j)\n",
    "    \n",
    "    \n",
    "for c in b.flat:\n",
    "    c.set(xlabel='x', ylabel='y')\n",
    "for c in b.flat:\n",
    "    c.label_outer()\n",
    "           \n"
   ]
  },
  {
   "cell_type": "markdown",
   "metadata": {
    "colab_type": "text",
    "id": "UWE93egabZsN"
   },
   "source": [
    "#Read the Random Non-linear data stored in CSV1 and visualize it"
   ]
  },
  {
   "cell_type": "code",
   "execution_count": 11,
   "metadata": {
    "colab": {},
    "colab_type": "code",
    "id": "8ypsb9HEwUFc"
   },
   "outputs": [
    {
     "name": "stdout",
     "output_type": "stream",
     "text": [
      "[[ 0.46475621 -0.29946254  1.        ]\n",
      " [-0.6703581   0.99434624 -1.        ]\n",
      " [ 0.71215691  0.81516674 -1.        ]\n",
      " [ 0.64035008 -0.36347882 -1.        ]\n",
      " [-0.65605233 -0.39266538 -1.        ]\n",
      " [ 0.62836818 -0.34037401 -1.        ]\n",
      " [-0.86231806 -0.63820477 -1.        ]\n",
      " [-0.92656277  0.10902035 -1.        ]\n",
      " [-0.18054607  0.70682425 -1.        ]\n",
      " [-0.17578842 -0.17438402  1.        ]]\n"
     ]
    },
    {
     "data": {
      "image/png": "[encoded data removed]",
      "text/plain": [
       "<Figure size 432x288 with 1 Axes>"
      ]
     },
     "metadata": {
      "needs_background": "light"
     },
     "output_type": "display_data"
    }
   ],
   "source": [
    "#Reading of data\n",
    "fpath_csv1 = 'C:/Users/SAYAN/Desktop/ML1/csv1.csv'\n",
    "\n",
    "#Reading the file\n",
    "with open(fpath_csv1, 'r') as m:\n",
    "    data1_read = m.read()\n",
    "train_list1 = []\n",
    "for i in data1_read.strip().split('\\n'):\n",
    "    j = i.split(',')\n",
    "    train_list1.append(j)\n",
    "data_csv1 = np.array(train_list1,dtype=np.float)\n",
    "print(data_csv1)\n",
    "\n",
    "\n",
    "#Visualisation of data\n",
    "for x, y, l in data_csv1:\n",
    "    if l == 1: \n",
    "        clr = 'red'\n",
    "    else: \n",
    "        clr = 'blue'\n",
    "    plt.scatter(x, y, c=clr)\n",
    "    plt.xlim(-1,1)\n",
    "    plt.ylim(-1,1)"
   ]
  },
  {
   "cell_type": "markdown",
   "metadata": {
    "colab_type": "text",
    "id": "alWwrjazvVLl"
   },
   "source": [
    "#Train a SVM classifier on the linearly non-separable data by appropriate features crafted from input data\n",
    "For linearly non-separable data, you need to transform the data in a space where it can be linearly seprable. These features can be exponential, polynomial, trignometric or any other function of actual input features. For example, if your input data is (x1, x2) you can have hand-crafted features as (sin(x1), cos(x1), cos(x2), x1-x2). \n",
    "Here you need to think of which hand-crafted features can be best suited for data given to you. Write a function to convert input features to hand-crafted features. Use these features to train a SVM using svm_function.\n",
    "Note that, if you choose to have L hand-crafted features, SVM will return L+1 dimensional 'w'. \n"
   ]
  },
  {
   "cell_type": "code",
   "execution_count": 12,
   "metadata": {
    "colab": {},
    "colab_type": "code",
    "id": "gCzlFpckwVzO"
   },
   "outputs": [
    {
     "name": "stdout",
     "output_type": "stream",
     "text": [
      "w is as follows: [[  2.21764343 -12.36777201  -4.15908765]]\n"
     ]
    }
   ],
   "source": [
    "#creating feature extraction function\n",
    "\n",
    "def feature_extract1(in_data):\n",
    "    dat_extrac = in_data.copy()\n",
    "    for i in range(len(dat_extrac)):\n",
    "        dat_extrac[i][0] = np.square(dat_extrac[i][0])\n",
    "    return dat_extrac\n",
    "\n",
    "#extract feature from csv1 dataset\n",
    "data1_ex = feature_extract1(data_csv1)\n",
    "data1_ex1 = np.concatenate((np.ones((data1_ex.shape[0],1)),data1_ex),axis=1)\n",
    "X = data1_ex1[:,0:3]\n",
    "Y = data1_ex1[:,3]\n",
    "\n",
    "#finding out the separation vector(classification)\n",
    "w = svm_function(X, Y, 5000, 0.001)\n",
    "print(\"w is as follows:\",w)"
   ]
  },
  {
   "cell_type": "code",
   "execution_count": 13,
   "metadata": {},
   "outputs": [
    {
     "data": {
      "image/png": "[encoded data removed]",
      "text/plain": [
       "<Figure size 432x288 with 1 Axes>"
      ]
     },
     "metadata": {
      "needs_background": "light"
     },
     "output_type": "display_data"
    }
   ],
   "source": [
    "for x, y, l in data1_ex:\n",
    "    if l == 1: \n",
    "        clr = 'red'\n",
    "    else: \n",
    "        clr = 'blue'\n",
    "    plt.scatter(x, y, c=clr)\n",
    "z = np.arange(-1, 1, 0.1)\n",
    "z = np.square(z)\n",
    "plt.plot(z, -w[0,0]/w[0,2]-(w[0,1]/w[0,2])*z, 'r-')   \n",
    "plt.show()"
   ]
  },
  {
   "cell_type": "markdown",
   "metadata": {
    "colab_type": "text",
    "id": "iN_UcRMNRGWN"
   },
   "source": [
    "#Visualize decision boundary\n",
    "Here, as 'w' retuened by svm_function is (L+1) dimensional, you can not visualize it in the form of line in 2D. To visualize non-linear decision boundary in 2D, you can generate few hundred random data-points and can observe if classifier labels them +1 or -1. Then you can plot this points with different colors to get emperical decision boundary. Write the code for visualization of non-linear decision boundary in next cell."
   ]
  },
  {
   "cell_type": "code",
   "execution_count": 14,
   "metadata": {
    "colab": {},
    "colab_type": "code",
    "id": "bBIXZbAnSlNa"
   },
   "outputs": [
    {
     "data": {
      "image/png": "[encoded data removed]",
      "text/plain": [
       "<Figure size 432x288 with 1 Axes>"
      ]
     },
     "metadata": {
      "needs_background": "light"
     },
     "output_type": "display_data"
    }
   ],
   "source": [
    "#Data visualization\n",
    "#create random data points first\n",
    "random_data = np.array([[-1+2*np.random.rand(), -1+2*np.random.rand()] for i in range(10000)])\n",
    "ran1_data1 = random_data.copy()\n",
    "for i in range(len(ran1_data1)):\n",
    "    ran1_data1[i][0] = np.square(ran1_data1[i][0])\n",
    "\n",
    "#Generating label of the data points\n",
    "ran1_data1= np.concatenate((np.ones((ran1_data1.shape[0],1)),ran1_data1),axis=1)\n",
    "label_ran1 = np.dot(w,ran1_data1.T)\n",
    "label_ran1 = np.multiply((np.dot(w,ran1_data1.T)>=0),1)\n",
    "ran2_data1 = ran1_data1.copy()\n",
    "\n",
    "\n",
    "for i, point in enumerate(ran2_data1):\n",
    "    ran2_data1[i][0:2] = random_data[i][0:2]\n",
    "    ran2_data1[i][2] = label_ran1[0][i]\n",
    "    \n",
    "#plotting them\n",
    "for x, y, l in ran2_data1 :\n",
    "    if l == 1: \n",
    "        clr = 'red'\n",
    "    else: \n",
    "        clr = 'blue'\n",
    "    plt.scatter(x, y, c=clr)"
   ]
  },
  {
   "cell_type": "markdown",
   "metadata": {
    "colab_type": "text",
    "id": "iUk6uoThwZMp"
   },
   "source": [
    "#Read the Random Non-linear data stored in CSV2"
   ]
  },
  {
   "cell_type": "code",
   "execution_count": 15,
   "metadata": {
    "colab": {},
    "colab_type": "code",
    "id": "Xbba53QawbRW"
   },
   "outputs": [
    {
     "name": "stdout",
     "output_type": "stream",
     "text": [
      "[[-0.03621738  0.15463753  1.        ]\n",
      " [ 0.14183567  0.33244372  1.        ]\n",
      " [-0.23726682  0.52597231  1.        ]\n",
      " [-0.0586824  -0.22853723  1.        ]\n",
      " [ 0.88997553 -0.64643177 -1.        ]\n",
      " [ 0.52064547  0.82000399 -1.        ]\n",
      " [-0.54363122 -0.80539581 -1.        ]\n",
      " [ 0.08986462 -0.50497559  1.        ]\n",
      " [ 0.0850973  -0.70008804  1.        ]\n",
      " [ 0.88793275  0.66593652 -1.        ]\n",
      " [-0.14764818  0.9705573  -1.        ]\n",
      " [-0.46495705 -0.75292592 -1.        ]\n",
      " [ 0.66115517 -0.93113396 -1.        ]\n",
      " [-0.47203788 -0.79485994 -1.        ]\n",
      " [-0.12860771 -0.09869222  1.        ]\n",
      " [ 0.00924622  0.18241053  1.        ]\n",
      " [-0.96257153 -0.93588975 -1.        ]\n",
      " [ 0.64619342  0.30414793 -1.        ]\n",
      " [ 0.42390134 -0.16373259  1.        ]\n",
      " [ 0.32129599  0.42369181  1.        ]]\n"
     ]
    },
    {
     "data": {
      "image/png": "[encoded data removed]",
      "text/plain": [
       "<Figure size 432x288 with 1 Axes>"
      ]
     },
     "metadata": {
      "needs_background": "light"
     },
     "output_type": "display_data"
    }
   ],
   "source": [
    "#Reading the data\n",
    "fpath_csv2 = 'C:/Users/SAYAN/Desktop/ML1/csv2.csv'\n",
    "\n",
    "\n",
    "\n",
    "#Reading\n",
    "with open(fpath_csv2, 'r') as m:\n",
    "    data2_read = m.read()\n",
    "train_list2 = []\n",
    "for i in data2_read.strip().split('\\n'):\n",
    "    j = i.split(',')\n",
    "    train_list2.append(j)\n",
    "data_csv2 = np.array(train_list2,dtype=np.float)\n",
    "print(data_csv2)\n",
    "\n",
    "\n",
    "\n",
    "#Plotting the data\n",
    "for x, y, l in data_csv2:\n",
    "    if l == 1: \n",
    "        clr = 'red'\n",
    "    else: \n",
    "        clr = 'blue'\n",
    "    plt.scatter(x, y, c=clr)\n",
    "    plt.xlim(-1,1)\n",
    "    plt.ylim(-1,1)"
   ]
  },
  {
   "cell_type": "markdown",
   "metadata": {
    "colab_type": "text",
    "id": "mZ3PDED_wd41"
   },
   "source": [
    "#Train a SVM classifier on the non linear data by appropriate features and also visualise it"
   ]
  },
  {
   "cell_type": "code",
   "execution_count": 16,
   "metadata": {},
   "outputs": [
    {
     "name": "stdout",
     "output_type": "stream",
     "text": [
      "w is as follows [[-5.03862812  2.21931504  3.98271423]]\n"
     ]
    }
   ],
   "source": [
    "#Creating feature extraction function\n",
    "def feature_extract2(in_data):\n",
    "    dat_extrac = in_data.copy()\n",
    "    for i in range(len(dat_extrac)):\n",
    "        dat_extrac[i][0] =(np.cos(dat_extrac[i][0]))\n",
    "        dat_extrac[i][1] =np.cos(dat_extrac[i][1])\n",
    "    return dat_extrac\n",
    "\n",
    "\n",
    "#Doing feature extraction for csv2 dataset\n",
    "data2_ex = feature_extract2(data_csv2)\n",
    "data2_ex1 = np.concatenate((np.ones((data2_ex.shape[0],1)),data2_ex),axis=1)\n",
    "X = data2_ex1[:,0:3]\n",
    "Y = data2_ex1[:,3]\n",
    "\n",
    "\n",
    "\n",
    "#train the dataset and find w\n",
    "w = svm_function(X, Y,6000,0.01)\n",
    "print(\"w is as follows\",w)"
   ]
  },
  {
   "cell_type": "code",
   "execution_count": 17,
   "metadata": {},
   "outputs": [
    {
     "data": {
      "image/png": "[encoded data removed]",
      "text/plain": [
       "<Figure size 432x288 with 1 Axes>"
      ]
     },
     "metadata": {
      "needs_background": "light"
     },
     "output_type": "display_data"
    }
   ],
   "source": [
    "#visualisation\n",
    "for x, y, l in data2_ex:\n",
    "    if l == 1: \n",
    "        clr = 'red'\n",
    "    else: \n",
    "        clr = 'blue'\n",
    "    plt.scatter(x, y, c=clr)\n",
    "z = np.arange(-1, 1, 0.5)\n",
    "z = (np.cos(z))\n",
    "plt.plot(z, -w[0,0]/w[0,2]-(w[0,1]/w[0,2])*z, 'r-')\n",
    "plt.show()"
   ]
  },
  {
   "cell_type": "code",
   "execution_count": 18,
   "metadata": {},
   "outputs": [
    {
     "data": {
      "image/png": "[encoded data removed]",
      "text/plain": [
       "<Figure size 432x288 with 1 Axes>"
      ]
     },
     "metadata": {
      "needs_background": "light"
     },
     "output_type": "display_data"
    }
   ],
   "source": [
    "#Generating random data \n",
    "data_rand = np.array([[-1+2*np.random.rand(), -1+2*np.random.rand()] for i in range(1000)])\n",
    "data1_rand1 = data_rand.copy()\n",
    "\n",
    "#Feature extraction part\n",
    "for i in range(len(data1_rand1)):\n",
    "    data1_rand1[i][0] = (np.cos(data1_rand1[i][0]))\n",
    "    data1_rand1[i][1] = np.cos(data1_rand1[i][1])\n",
    "\n",
    "#Generating labels of the data\n",
    "data1_rand1 = np.concatenate((np.ones((data1_rand1.shape[0],1)),data1_rand1),axis=1)\n",
    "label_rand1 = np.dot(w,data1_rand1.T)\n",
    "label_rand1 = np.multiply((np.dot(w,data1_rand1.T)>=0),1)\n",
    "\n",
    "data1_rand2 = data1_rand1.copy()\n",
    "for i, point in enumerate(data1_rand2):\n",
    "    data1_rand2[i][0:2] = data_rand[i][0:2]\n",
    "    data1_rand2[i][2] = label_rand1[0][i]\n",
    "    \n",
    "#plotting\n",
    "for x, y, l in data1_rand2:\n",
    "    if l == 1: \n",
    "        clr = 'red'\n",
    "    else: \n",
    "        clr = 'blue'\n",
    "    plt.scatter(x, y, c=clr)"
   ]
  },
  {
   "cell_type": "markdown",
   "metadata": {
    "colab_type": "text",
    "id": "y_0tNAPtwfx3"
   },
   "source": [
    "#Read the Random Non-linear data stored in CSV3"
   ]
  },
  {
   "cell_type": "code",
   "execution_count": 19,
   "metadata": {
    "colab": {},
    "colab_type": "code",
    "id": "vI8OP9mUwhmy"
   },
   "outputs": [
    {
     "name": "stdout",
     "output_type": "stream",
     "text": [
      "[[ 0.27180822  0.87921986 -1.        ]\n",
      " [ 0.55253327 -0.11938114  1.        ]\n",
      " [-0.29348482  0.13304465  1.        ]\n",
      " [-0.47743136 -0.10440862  1.        ]\n",
      " [-0.56450782  0.88042841 -1.        ]\n",
      " [ 0.57165557  0.93918664 -1.        ]\n",
      " [-0.99248621 -0.64471168 -1.        ]\n",
      " [ 0.90411295 -0.96383216 -1.        ]\n",
      " [ 0.6546998  -0.09231058  1.        ]\n",
      " [ 0.23191681  0.92029796 -1.        ]\n",
      " [ 0.83356734  0.13604458 -1.        ]\n",
      " [-0.02818634 -0.27761032  1.        ]\n",
      " [-0.45948482 -0.86406345 -1.        ]\n",
      " [ 0.39725769 -0.26911992  1.        ]\n",
      " [-0.19157897 -0.87510576 -1.        ]\n",
      " [ 0.36642413  0.58990836  1.        ]\n",
      " [ 0.53359687  0.11794347  1.        ]\n",
      " [-0.62508652  0.46588156 -1.        ]\n",
      " [ 0.61116503  0.90454096 -1.        ]\n",
      " [-0.89167122 -0.05126186 -1.        ]\n",
      " [-0.58181755 -0.73488455 -1.        ]\n",
      " [-0.78596212  0.04355831 -1.        ]\n",
      " [ 0.85585353 -0.61877426 -1.        ]\n",
      " [-0.37375469  0.67671271 -1.        ]\n",
      " [ 0.24725572 -0.77174041 -1.        ]\n",
      " [-0.94759601  0.09148164 -1.        ]\n",
      " [-0.23230609 -0.24425213  1.        ]\n",
      " [-0.59388576 -0.9018603  -1.        ]\n",
      " [ 0.92602346 -0.60451876 -1.        ]\n",
      " [-0.31849212  0.24038544  1.        ]]\n"
     ]
    },
    {
     "data": {
      "image/png": "[encoded data removed]",
      "text/plain": [
       "<Figure size 432x288 with 1 Axes>"
      ]
     },
     "metadata": {
      "needs_background": "light"
     },
     "output_type": "display_data"
    }
   ],
   "source": [
    "#Reading the file\n",
    "fpath_csv3 = 'C:/Users/SAYAN/Desktop/ML1/csv3.csv'\n",
    "\n",
    "with open(fpath_csv3, 'r') as m:\n",
    "    data3_read = m.read()\n",
    "train_list3 = []\n",
    "for i in data3_read.strip().split('\\n'):\n",
    "    j = i.split(',')\n",
    "    train_list3.append(j)\n",
    "data_csv3 = np.array(train_list3,dtype=np.float)\n",
    "print(data_csv3)\n",
    "\n",
    "#plotting te graph\n",
    "for x, y, l in data_csv3:\n",
    "    if l == 1: \n",
    "        clr = 'red'\n",
    "    else: \n",
    "        clr = 'blue'\n",
    "    plt.scatter(x, y, c=clr)\n",
    "    plt.xlim(-1,1)\n",
    "    plt.ylim(-1,1)"
   ]
  },
  {
   "cell_type": "markdown",
   "metadata": {
    "colab_type": "text",
    "id": "xLj09HhhwiAO"
   },
   "source": [
    "#Train a SVM classifier on the non linear data by appropriate Feature Engineering and also visualise it"
   ]
  },
  {
   "cell_type": "code",
   "execution_count": 20,
   "metadata": {},
   "outputs": [],
   "source": [
    "def svm_function1(x, y, epoch,lambd):\n",
    "    w=np.zeros((1,4))\n",
    "    for i in range(epoch):\n",
    "        l_rate=1/(lambd*(i+1))\n",
    "        for j in range(len(y)):\n",
    "            if (y[j]*np.dot(w,x[j].reshape((1,4)).T))<=1:\n",
    "                w=w*(1-1/(i+1))+l_rate*y[j]*x[j].reshape((1,4));\n",
    "            else:\n",
    "                w=w*(1-1/(i+1))\n",
    "                \n",
    "    return w"
   ]
  },
  {
   "cell_type": "code",
   "execution_count": 21,
   "metadata": {
    "colab": {},
    "colab_type": "code",
    "id": "_M04CZx_wi-U"
   },
   "outputs": [
    {
     "name": "stdout",
     "output_type": "stream",
     "text": [
      "w is as follows: [[ 4.4743968 -9.3969421 -7.9324915  2.3012629]]\n"
     ]
    }
   ],
   "source": [
    "#feature extraction part\n",
    "\n",
    "def feature_extract3(in_data):\n",
    "    dat_extrac = np.zeros((in_data.shape[0],in_data.shape[1]+1))\n",
    "    for i in range(len(dat_extrac)):\n",
    "        dat_extrac[i][0] = np.square(in_data[i][0])\n",
    "        dat_extrac[i][1] = np.square(in_data[i][1])\n",
    "        dat_extrac[i][2] = (in_data[i][0]*in_data[i][1])\n",
    "        dat_extrac[i][3] = (in_data[i][2])\n",
    "    return dat_extrac\n",
    "\n",
    "data3_ex = feature_extract3(data_csv3)\n",
    "data3_ex1 = np.concatenate((np.ones((data3_ex.shape[0],1)),data3_ex),axis=1)\n",
    "X = data3_ex1[:,:4]\n",
    "Y = data3_ex1[:,4]\n",
    "\n",
    "w = svm_function1(X, Y, 1000, 0.001)\n",
    "print(\"w is as follows:\",w)\n"
   ]
  },
  {
   "cell_type": "code",
   "execution_count": 22,
   "metadata": {},
   "outputs": [
    {
     "data": {
      "image/png": "[encoded data removed]",
      "text/plain": [
       "<Figure size 432x288 with 1 Axes>"
      ]
     },
     "metadata": {
      "needs_background": "light"
     },
     "output_type": "display_data"
    }
   ],
   "source": [
    "#visualise in new feature space:\n",
    "\n",
    "for x, y,_,l in data3_ex:\n",
    "    if l == 1: \n",
    "        clr = 'red'\n",
    "    else: \n",
    "        clr = 'blue'\n",
    "    plt.scatter(x, y, c=clr)\n",
    "z = np.arange(-1, 1, 0.5)\n",
    "z = np.square(z)\n",
    "plt.plot(z, -w[0][0]/w[0][2] -w[0][1]/w[0][2]*z, 'r-')     \n",
    "plt.show()"
   ]
  },
  {
   "cell_type": "code",
   "execution_count": 23,
   "metadata": {},
   "outputs": [
    {
     "data": {
      "image/png": "[encoded data removed]",
      "text/plain": [
       "<Figure size 432x288 with 1 Axes>"
      ]
     },
     "metadata": {
      "needs_background": "light"
     },
     "output_type": "display_data"
    }
   ],
   "source": [
    "#Data visualization of nonlinear type in x1,x2 space:\n",
    "\n",
    "#generate random data\n",
    "data_random = np.array([[-1+2*np.random.rand(), -1+2*np.random.rand()] for i in range(1000)])\n",
    "data3_random1 = np.zeros((data_random.shape[0],data_random.shape[1]+1))\n",
    "\n",
    "#feature extraction\n",
    "for i in range(len(data_random)):\n",
    "    data3_random1[i][0] = np.square(data_random[i][0])\n",
    "    data3_random1[i][1] = np.square(data_random[i][1])\n",
    "    data3_random1[i][2] = data_random[i][0]*data_random[i][1]\n",
    "    \n",
    "    \n",
    "#finding the labels\n",
    "data3_random1 = np.concatenate((np.ones((data3_random1.shape[0],1)),data3_random1),axis=1)\n",
    "label_random1 = np.dot(w,data3_random1.T)\n",
    "label_random1 = np.multiply((np.dot(w,data3_random1.T)>=0),1)\n",
    "data3_random2 = np.zeros((data_random.shape[0],data_random.shape[1]+1))\n",
    "\n",
    "for i, point in enumerate(data3_random2):\n",
    "    data3_random2[i][0:2] = data_random[i][0:2]\n",
    "    data3_random2[i][2] = label_random1[0][i]\n",
    "    \n",
    "#plotting\n",
    "for x, y, l in data3_random2:\n",
    "    if l == 1: \n",
    "        clr = 'red'\n",
    "    else: \n",
    "        clr = 'blue'\n",
    "    plt.scatter(x, y, c=clr)"
   ]
  }
 ],
 "metadata": {
  "colab": {
   "collapsed_sections": [
    "UWE93egabZsN",
    "11eQhKsUbf-u",
    "zLFBBCvWbmee"
   ],
   "name": "ML_assignment1___ipynb",
   "provenance": []
  },
  "kernelspec": {
   "display_name": "Python 3",
   "language": "python",
   "name": "python3"
  },
  "language_info": {
   "codemirror_mode": {
    "name": "ipython",
    "version": 3
   },
   "file_extension": ".py",
   "mimetype": "text/x-python",
   "name": "python",
   "nbconvert_exporter": "python",
   "pygments_lexer": "ipython3",
   "version": "3.7.1"
  }
 },
 "nbformat": 4,
 "nbformat_minor": 1
}
